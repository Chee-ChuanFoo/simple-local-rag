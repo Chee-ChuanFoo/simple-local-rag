{
 "cells": [
  {
   "cell_type": "markdown",
   "metadata": {},
   "source": [
    "# Import Libraries and files "
   ]
  },
  {
   "cell_type": "code",
   "execution_count": 1,
   "metadata": {},
   "outputs": [],
   "source": [
    "# Basic Libraries\n",
    "import os\n",
    "import pandas as pd\n",
    "import numpy as np\n",
    "\n",
    "# Pre-processing\n",
    "import fitz # install PyMuPDF\n",
    "import requests\n",
    "from tqdm import tqdm\n",
    "from spacy.lang.en import English \n",
    "import re\n",
    "\n",
    "# Embeddings\n",
    "from sentence_transformers import util, SentenceTransformer\n",
    "\n",
    "# RAG\n",
    "import torch\n",
    "import textwrap"
   ]
  },
  {
   "cell_type": "code",
   "execution_count": 2,
   "metadata": {},
   "outputs": [
    {
     "name": "stdout",
     "output_type": "stream",
     "text": [
      "File human-nutrition-text.pdf exists.\n"
     ]
    }
   ],
   "source": [
    "# Get PDF document path\n",
    "filename = \"human-nutrition-text.pdf\"\n",
    "\n",
    "# Download PDF\n",
    "if not os.path.exists(filename):\n",
    "    print(\"File doesn't exist, downloading...\")\n",
    "    \n",
    "    # The URL of the PDF you want to download\n",
    "    url = \"https://pressbooks.oer.hawaii.edu/humannutrition2/open/download?type=pdf\"\n",
    "\n",
    "    # Send a GET request to the url\n",
    "    response = requests.get(url)\n",
    "\n",
    "    # Check if the request was successful\n",
    "    if response.status_code == 200:\n",
    "        # Open the file and save it\n",
    "        with open(filename,\"wb\") as file:\n",
    "            file.write(response.content)\n",
    "        print(f\"[INFO] The file has been download and saved as {filename}\")\n",
    "    else: print(f\"[INFO] Failed to download the file. Status Code: {response.status_code}\")\n",
    "        \n",
    "else:\n",
    "  print(f\"File {filename} exists.\")"
   ]
  },
  {
   "cell_type": "markdown",
   "metadata": {},
   "source": [
    "# Read Files"
   ]
  },
  {
   "cell_type": "code",
   "execution_count": 3,
   "metadata": {},
   "outputs": [],
   "source": [
    "# Format text read from PDF\n",
    "def text_formatter(text: str) -> str:\n",
    "    cleaned_text = text.replace(\"\\n\",\" \").strip()\n",
    "    return cleaned_text\n",
    "\n",
    "# Provide pdf name\n",
    "def open_and_read_pdf(filename: str)->list[dict]:\n",
    "    doc = fitz.open(filename)\n",
    "    pages_and_texts=[]\n",
    "    for page_number,page in tqdm(enumerate(doc)):\n",
    "        text = page.get_text()\n",
    "        formatted_text = text_formatter(text)\n",
    "\n",
    "        # store pages information and texts in a dictionary\n",
    "        pages_and_texts.append({\"page_number\": page_number - 41,  # adjust page numbers since our PDF starts on page 42\n",
    "                        \"page_char_count\": len(text),\n",
    "                        \"page_word_count\": len(text.split(\" \")),\n",
    "                        \"page_sentence_count_raw\": len(text.split(\". \")),\n",
    "                        # \"page_token_count\": len(text) / 4,  # 1 token = ~4 chars, see: https://help.openai.com/en/articles/4936856-what-are-tokens-and-how-to-count-them\n",
    "                        \"text\": text})\n",
    "        \n",
    "    return pages_and_texts\n",
    "\n",
    "def read_pages(pages,page_number:int):\n",
    "    # insert pages_and_text and page number to retrieve the specified page in the pdf\n",
    "    content  = pages[page_number+41]\n",
    "    return content\n",
    "\n",
    "# Create a function that recursively splits a list into desired sizes\n",
    "def split_list(input_list: list, \n",
    "               slice_size: int) -> list[list[str]]:\n",
    "    \"\"\"\n",
    "    Splits the input_list into sublists of size slice_size (or as close as possible).\n",
    "\n",
    "    For example, a list of 17 sentences would be split into two lists of [[10], [7]]\n",
    "    \"\"\"\n",
    "    return [input_list[i:i + slice_size] for i in range(0, len(input_list), slice_size)]"
   ]
  },
  {
   "cell_type": "markdown",
   "metadata": {},
   "source": [
    "# Text Processing"
   ]
  },
  {
   "cell_type": "code",
   "execution_count": 4,
   "metadata": {},
   "outputs": [],
   "source": [
    "def text_processor(pages_and_texts,num_sentence_chunk_size=10,min_token_length=30):\n",
    "    nlp = English()\n",
    "    # Add a sentencizer pipeline\n",
    "    nlp.add_pipe(\"sentencizer\")\n",
    "\n",
    "    # Sentenciaing texts on each page to sentences\n",
    "    for item in tqdm(pages_and_texts):\n",
    "        item[\"sentences\"] = list(nlp(item[\"text\"]).sents)\n",
    "        \n",
    "        # Make sure all sentences are strings\n",
    "        item[\"sentences\"] = [str(sentence) for sentence in item[\"sentences\"]]\n",
    "        \n",
    "        # Count the sentences \n",
    "        item[\"page_sentence_count_spacy\"] = len(item[\"sentences\"])\n",
    "\n",
    "    # Loop through pages and texts and split sentences into chunks\n",
    "    for item in tqdm(pages_and_texts):\n",
    "        item[\"sentence_chunks\"] = split_list(input_list=item[\"sentences\"],\n",
    "                                            slice_size=num_sentence_chunk_size)\n",
    "        item[\"num_chunks\"] = len(item[\"sentence_chunks\"])\n",
    "\n",
    "    # Split each chunk into its own item\n",
    "    pages_and_chunks = []\n",
    "    for item in tqdm(pages_and_texts):\n",
    "        for sentence_chunk in item[\"sentence_chunks\"]:\n",
    "            chunk_dict = {}\n",
    "            chunk_dict[\"page_number\"] = item[\"page_number\"]\n",
    "            \n",
    "            # Join the sentences together into a paragraph-like structure, aka a chunk (so they are a single string)\n",
    "            joined_sentence_chunk = \"\".join(sentence_chunk).replace(\"  \", \" \").strip()\n",
    "            joined_sentence_chunk = re.sub(r'\\.([A-Z])', r'. \\1', joined_sentence_chunk) # \".A\" -> \". A\" for any full-stop/capital letter combo \n",
    "            chunk_dict[\"sentence_chunk\"] = joined_sentence_chunk\n",
    "\n",
    "            # Get stats about the chunk\n",
    "            chunk_dict[\"chunk_char_count\"] = len(joined_sentence_chunk)\n",
    "            chunk_dict[\"chunk_word_count\"] = len([word for word in joined_sentence_chunk.split(\" \")])\n",
    "            chunk_dict[\"chunk_token_count\"] = len(joined_sentence_chunk) / 4 # 1 token = ~4 characters\n",
    "            \n",
    "            pages_and_chunks.append(chunk_dict)\n",
    "\n",
    "    df = pd.DataFrame(pages_and_chunks)\n",
    "    pages_and_chunks_over_min_token_len = df[df[\"chunk_token_count\"] > min_token_length].to_dict(orient=\"records\")\n",
    "    return pages_and_chunks, pages_and_chunks_over_min_token_len"
   ]
  },
  {
   "cell_type": "markdown",
   "metadata": {},
   "source": [
    "# Embedding"
   ]
  },
  {
   "cell_type": "code",
   "execution_count": 5,
   "metadata": {},
   "outputs": [],
   "source": [
    "def embedding(texts,model_name=\"all-mpnet-base-v2\",device=\"cuda\"):\n",
    "\n",
    "    # use \"all-mpnet-base-v2\"\n",
    "    embedding_model = SentenceTransformer(model_name_or_path=model_name, \n",
    "                                        device=device)\n",
    "    # # Send the model to the GPU\n",
    "    # embedding_model.to(\"cuda\") \n",
    "\n",
    "    # Create embeddings one by one on the GPU\n",
    "    # pages_and_chunks_over_min_token_len\n",
    "    for item in tqdm(texts):\n",
    "        item[\"embedding\"] = embedding_model.encode(item[\"sentence_chunk\"])\n",
    "\n",
    "    # # Turn text chunks into a single list\n",
    "    # text_chunks = [item[\"sentence_chunk\"] for item in pages_and_chunks_over_min_token_len]\n",
    "\n",
    "    # # Embed all texts in batches (z-book: 34.4s)\n",
    "    # text_chunk_embeddings = embedding_model.encode(text_chunks,\n",
    "    #                                                batch_size=32, # you can use different batch sizes here for speed/performance, I found 32 works well for this use case\n",
    "    #                                                convert_to_tensor=True) # optional to return embeddings as tensor instead of array\n",
    "\n",
    "    # Save embeddings to file\n",
    "    text_chunks_and_embeddings_df = pd.DataFrame(texts)\n",
    "    embeddings_df_save_path = \"text_chunks_and_embeddings_df.csv\"\n",
    "    text_chunks_and_embeddings_df.to_csv(embeddings_df_save_path, index=False)\n",
    "    return text_chunks_and_embeddings_df"
   ]
  },
  {
   "cell_type": "code",
   "execution_count": 12,
   "metadata": {},
   "outputs": [],
   "source": [
    "# Define embedding model\n",
    "embedding_model = SentenceTransformer(model_name_or_path=\"all-mpnet-base-v2\", \n",
    "                                      device='cuda')"
   ]
  },
  {
   "cell_type": "code",
   "execution_count": 6,
   "metadata": {},
   "outputs": [],
   "source": [
    "def read_embedding_from_file(file='text_chunks_and_embeddings_df.csv',device='cuda'):\n",
    "    # Import texts and embedding df\n",
    "    text_chunks_and_embedding_df = pd.read_csv(\"text_chunks_and_embeddings_df.csv\")\n",
    "    # Convert embedding column back to np.array (it got converted to string when it got saved to CSV)\n",
    "    text_chunks_and_embedding_df[\"embedding\"] = text_chunks_and_embedding_df[\"embedding\"].apply(lambda x: np.fromstring(x.strip(\"[]\"), sep=\" \"))\n",
    "\n",
    "    # Convert texts and embedding df to list of dicts\n",
    "    pages_and_chunks = text_chunks_and_embedding_df.to_dict(orient=\"records\")\n",
    "\n",
    "    # Convert embeddings to torch tensor and send to device (note: NumPy arrays are float64, torch tensors are float32 by default)\n",
    "    embeddings = torch.tensor(np.array(text_chunks_and_embedding_df[\"embedding\"].tolist()), dtype=torch.float32).to(device)\n",
    "    return pages_and_chunks,embeddings"
   ]
  },
  {
   "cell_type": "markdown",
   "metadata": {},
   "source": [
    "# Retrieval"
   ]
  },
  {
   "cell_type": "code",
   "execution_count": 7,
   "metadata": {},
   "outputs": [],
   "source": [
    "# Define helper function to print wrapped text \n",
    "def print_wrapped(text, wrap_length=80):\n",
    "    wrapped_text = textwrap.fill(text, wrap_length)\n",
    "    print(wrapped_text)"
   ]
  },
  {
   "cell_type": "code",
   "execution_count": 10,
   "metadata": {},
   "outputs": [],
   "source": [
    "def dot_product(vector1, vector2):\n",
    "    return torch.dot(vector1, vector2)\n",
    "\n",
    "def cosine_similarity(vector1, vector2):\n",
    "    dot_product = torch.dot(vector1, vector2)\n",
    "\n",
    "    # Get Euclidean/L2 norm of each vector (removes the magnitude, keeps direction)\n",
    "    norm_vector1 = torch.sqrt(torch.sum(vector1**2))\n",
    "    norm_vector2 = torch.sqrt(torch.sum(vector2**2))\n",
    "\n",
    "    return dot_product / (norm_vector1 * norm_vector2)"
   ]
  },
  {
   "cell_type": "code",
   "execution_count": 13,
   "metadata": {},
   "outputs": [],
   "source": [
    "def retrieve_relevant_resources(query: str,\n",
    "                                embeddings: torch.tensor,\n",
    "                                model: SentenceTransformer=embedding_model,\n",
    "                                n_resources_to_return: int=5,\n",
    "                                print_time: bool=True):\n",
    "    \"\"\"\n",
    "    Pass user query into the function,\n",
    "    Embeds a query with model and returns top k (default=5) scores and indices from embeddings.\n",
    "    \"\"\"\n",
    "\n",
    "    # Embed the query\n",
    "    query_embedding = model.encode(query, \n",
    "                                   convert_to_tensor=True) \n",
    "\n",
    "    # Get dot product scores based on embeddings passed into the function\n",
    "    start_time = timer()\n",
    "    dot_scores = util.dot_score(query_embedding, embeddings)[0]\n",
    "    end_time = timer()\n",
    "\n",
    "    if print_time:\n",
    "        print(f\"[INFO] Time taken to get scores on {len(embeddings)} embeddings: {end_time-start_time:.5f} seconds.\")\n",
    "\n",
    "    \"\"\"\n",
    "    Return top 5 results based on dot product scores    \n",
    "    \"\"\"\n",
    "    scores, indices = torch.topk(input=dot_scores, \n",
    "                                 k=n_resources_to_return)\n",
    "\n",
    "    return scores, indices\n",
    "\n",
    "def print_top_results_and_scores(query: str,\n",
    "                                 embeddings: torch.tensor,\n",
    "                                 pages_and_chunks: list[dict]=pages_and_chunks,\n",
    "                                 n_resources_to_return: int=5):\n",
    "    \"\"\"\n",
    "    Takes a query, retrieves most relevant resources and prints them out in descending order.\n",
    "\n",
    "    Note: Requires pages_and_chunks to be formatted in a specific way (see above for reference).\n",
    "    \"\"\"\n",
    "    \n",
    "    scores, indices = retrieve_relevant_resources(query=query,\n",
    "                                                  embeddings=embeddings,\n",
    "                                                  n_resources_to_return=n_resources_to_return)\n",
    "    \n",
    "    print(f\"Query: {query}\\n\")\n",
    "    print(\"Results:\")\n",
    "    # Loop through zipped together scores and indicies\n",
    "    for score, index in zip(scores, indices):\n",
    "        print(f\"Score: {score:.4f}\")\n",
    "        # Print relevant sentence chunk (since the scores are in descending order, the most relevant chunk will be first)\n",
    "        print_wrapped(pages_and_chunks[index][\"sentence_chunk\"])\n",
    "        # Print the page number too so we can reference the textbook further and check the results\n",
    "        print(f\"Page number: {pages_and_chunks[index]['page_number']}\")\n",
    "        print(\"\\n\")"
   ]
  },
  {
   "cell_type": "markdown",
   "metadata": {},
   "source": [
    "# Generation"
   ]
  },
  {
   "cell_type": "code",
   "execution_count": 8,
   "metadata": {},
   "outputs": [
    {
     "name": "stderr",
     "output_type": "stream",
     "text": [
      "1208it [00:01, 783.56it/s]\n",
      "100%|██████████| 1208/1208 [00:02<00:00, 571.75it/s]\n",
      "100%|██████████| 1208/1208 [00:00<?, ?it/s]\n",
      "100%|██████████| 1208/1208 [00:00<00:00, 38714.48it/s]\n"
     ]
    },
    {
     "data": {
      "text/plain": [
       "{'page_number': 196,\n",
       " 'sentence_chunk': 'Potassium also is involved in protein synthesis, energy metabolism, \\nand platelet function, and acts as a buffer in blood, playing a role in \\nacid-base balance.\\nImbalances of Potassium \\nInsufficient potassium levels in the body (hypokalemia) can be \\ncaused by a low dietary intake of potassium or by high sodium \\nintakes, but more commonly it results from medications that \\nincrease water excretion, mainly diuretics. The signs and symptoms \\nof hypokalemia are related to the functions of potassium in nerve \\ncells and consequently skeletal and smooth-muscle contraction.\\nThe signs and symptoms include muscle weakness and cramps, \\nrespiratory distress, and constipation. Severe potassium depletion \\ncan cause the heart to have abnormal contractions and can even \\nbe fatal. High levels of potassium in the blood, or hyperkalemia, \\nalso affects the heart. It is a silent condition as it often displays \\nno signs or symptoms. Extremely high levels of potassium in the \\nblood disrupt the electrical impulses that stimulate the heart and \\ncan cause the heart to stop. Hyperkalemia is usually the result of \\nkidney dysfunction.\\nNeeds and Dietary Sources of Potassium \\nThe IOM based their AIs for potassium on the levels associated with \\na decrease in blood pressure, a reduction in salt sensitivity, and a \\nminimal risk of kidney stones.',\n",
       " 'chunk_char_count': 1332,\n",
       " 'chunk_word_count': 203,\n",
       " 'chunk_token_count': 333.0}"
      ]
     },
     "execution_count": 8,
     "metadata": {},
     "output_type": "execute_result"
    }
   ],
   "source": [
    "# Pre-processing\n",
    "pages_and_texts = open_and_read_pdf(\"human-nutrition-text.pdf\")\n",
    "pages_and_chunks,pages_and_chunks_over_min_token_len = text_processor(pages_and_texts)\n",
    "read_pages(pages_and_chunks_over_min_token_len,258)"
   ]
  },
  {
   "cell_type": "code",
   "execution_count": 9,
   "metadata": {},
   "outputs": [],
   "source": [
    "# Read embedding from csv file\n",
    "pages_and_chunks,embeddings = read_embedding_from_file()"
   ]
  },
  {
   "cell_type": "markdown",
   "metadata": {},
   "source": [
    "### Checking local GPU memory availability\n",
    "\n",
    "Let's find out what hardware we've got available and see what kind of model(s) we'll be able to load.\n",
    "\n",
    "> **Note:** You can also check this with the `!nvidia-smi` command."
   ]
  },
  {
   "cell_type": "code",
   "execution_count": 16,
   "metadata": {},
   "outputs": [
    {
     "name": "stdout",
     "output_type": "stream",
     "text": [
      "Available GPU memory: 4 GB\n"
     ]
    }
   ],
   "source": [
    "    # Get GPU available memory\n",
    "import torch\n",
    "gpu_memory_bytes = torch.cuda.get_device_properties(0).total_memory\n",
    "gpu_memory_gb = round(gpu_memory_bytes / (2**30))\n",
    "print(f\"Available GPU memory: {gpu_memory_gb} GB\")"
   ]
  }
 ],
 "metadata": {
  "kernelspec": {
   "display_name": "venv",
   "language": "python",
   "name": "python3"
  },
  "language_info": {
   "codemirror_mode": {
    "name": "ipython",
    "version": 3
   },
   "file_extension": ".py",
   "mimetype": "text/x-python",
   "name": "python",
   "nbconvert_exporter": "python",
   "pygments_lexer": "ipython3",
   "version": "3.9.13"
  }
 },
 "nbformat": 4,
 "nbformat_minor": 2
}
